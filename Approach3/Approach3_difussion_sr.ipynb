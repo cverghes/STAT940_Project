{
 "cells": [
  {
   "cell_type": "code",
   "execution_count": 1,
   "metadata": {},
   "outputs": [],
   "source": [
    "import os\n",
    "import json\n",
    "import pandas as pd\n",
    "import numpy as np"
   ]
  },
  {
   "cell_type": "code",
   "execution_count": 3,
   "metadata": {},
   "outputs": [
    {
     "name": "stdout",
     "output_type": "stream",
     "text": [
      "Properties Metadata: {'n_var': 3, 'depth': 4, 'n_functions': 161, 'sample_per_formula': 1, 'n_point_range': [100, 101], 'const_range': [0.001, 2.0], 'var_bound_dict': {'var_0': [-5.0, 5.0], 'var_1': [-5.0, 5.0], 'var_2': [-5.0, 5.0]}, 'var_noise_sigma_list': [0.02, 0.02, 0.02], 'target_noise_sigma': 0.05, 'operators': ['sin', 'cos', 'tan', 'exp', 'log', 'sqrt', 'pow_2', 'gaussian', 'cosh', 'sinh', 'tanh', 'neg', 'reverse', 'add', 'mult'], 'directory': '/mnt/storage/home/aravanba/projects/GuidedSymbolicGPT/data/local/small_dataset/test'}\n"
     ]
    }
   ],
   "source": [
    "def load_properties(file_path):\n",
    "    with open(file_path, 'r') as file:\n",
    "        properties = json.load(file)\n",
    "    return properties\n",
    "\n",
    "# Path to the properties.json file\n",
    "properties_path = \"./data_symbolic_regression/test/properties.json\"\n",
    "properties = load_properties(properties_path)\n",
    "\n",
    "print(\"Properties Metadata:\", properties)"
   ]
  },
  {
   "cell_type": "code",
   "execution_count": 4,
   "metadata": {},
   "outputs": [],
   "source": [
    "def parse_json_file(file_path):\n",
    "    with open(file_path, 'r') as file:\n",
    "        data = json.load(file)\n",
    "    return {\n",
    "        \"formula\": data[\"formula\"],\n",
    "        \"formula_human_readable\": data[\"formula_human_readable\"],\n",
    "        \"formula_depth\": data[\"formula_depth\"],\n",
    "        \"n_vars\": data[\"n_vars\"],\n",
    "        \"n_consts\": data[\"n_consts\"],\n",
    "        \"n_points\": data[\"n_points\"],\n",
    "        \"var_bound_dict\": data[\"var_bound_dict\"],\n",
    "        \"const_value_dict\": data[\"const_value_dict\"],\n",
    "        \"meta_list\": data[\"meta_list\"],\n",
    "        \"points\": data[\"points\"]  # This contains var_X and target values\n",
    "    }"
   ]
  },
  {
   "cell_type": "code",
   "execution_count": 5,
   "metadata": {},
   "outputs": [
    {
     "name": "stdout",
     "output_type": "stream",
     "text": [
      "Loaded 161 functions from the test folder.\n"
     ]
    }
   ],
   "source": [
    "def load_test_data(test_folder_path):\n",
    "    data_list = []\n",
    "    for file_name in os.listdir(test_folder_path):\n",
    "        if file_name.startswith(\"f_\") and file_name.endswith(\".json\"):\n",
    "            file_path = os.path.join(test_folder_path, file_name)\n",
    "            parsed_data = parse_json_file(file_path)\n",
    "            data_list.append(parsed_data)\n",
    "    return data_list\n",
    "\n",
    "# Path to the test folder\n",
    "test_folder_path = \"./data_symbolic_regression/test/\"\n",
    "test_data = load_test_data(test_folder_path)\n",
    "print(f\"Loaded {len(test_data)} functions from the test folder.\")"
   ]
  },
  {
   "cell_type": "code",
   "execution_count": 6,
   "metadata": {},
   "outputs": [
    {
     "name": "stdout",
     "output_type": "stream",
     "text": [
      "                                             formula  \\\n",
      "0  add(add(C_0(N, N), cosh(var_0, N)), add(sin(va...   \n",
      "1  add(add(C_0(N, N), cosh(var_0, N)), add(sin(va...   \n",
      "2  add(add(C_0(N, N), cosh(var_0, N)), add(sin(va...   \n",
      "3  add(add(C_0(N, N), cosh(var_0, N)), add(sin(va...   \n",
      "4  add(add(C_0(N, N), cosh(var_0, N)), add(sin(va...   \n",
      "\n",
      "                         formula_human_readable  formula_depth  n_vars  \\\n",
      "0  ((C_0+cosh(var_0))+(sin(var_2)+sqrt(var_1)))              4       3   \n",
      "1  ((C_0+cosh(var_0))+(sin(var_2)+sqrt(var_1)))              4       3   \n",
      "2  ((C_0+cosh(var_0))+(sin(var_2)+sqrt(var_1)))              4       3   \n",
      "3  ((C_0+cosh(var_0))+(sin(var_2)+sqrt(var_1)))              4       3   \n",
      "4  ((C_0+cosh(var_0))+(sin(var_2)+sqrt(var_1)))              4       3   \n",
      "\n",
      "   n_consts    var_0    var_1    var_2    target  \n",
      "0         1 -3.02015 -1.36467  1.83509  13.49721  \n",
      "1         1 -4.84750 -2.52293 -2.34561  72.39980  \n",
      "2         1  2.19690 -0.90045  3.16025   5.30534  \n",
      "3         1 -0.74295  0.15680 -1.37595   0.76769  \n",
      "4         1 -1.88668  2.33505 -0.19879   4.87357  \n"
     ]
    }
   ],
   "source": [
    "def create_dataframe(data_list):\n",
    "    rows = []\n",
    "    for data in data_list:\n",
    "        for idx in range(data[\"n_points\"]):\n",
    "            row = {\n",
    "                \"formula\": data[\"formula\"],\n",
    "                \"formula_human_readable\": data[\"formula_human_readable\"],\n",
    "                \"formula_depth\": data[\"formula_depth\"],\n",
    "                \"n_vars\": data[\"n_vars\"],\n",
    "                \"n_consts\": data[\"n_consts\"],\n",
    "                \"var_0\": data[\"points\"][\"var_0\"][idx],\n",
    "                \"var_1\": data[\"points\"][\"var_1\"][idx],\n",
    "                \"var_2\": data[\"points\"][\"var_2\"][idx],\n",
    "                \"target\": data[\"points\"][\"target\"][idx]\n",
    "            }\n",
    "            rows.append(row)\n",
    "    return pd.DataFrame(rows)\n",
    "\n",
    "df = create_dataframe(test_data)\n",
    "print(df.head())"
   ]
  },
  {
   "cell_type": "code",
   "execution_count": 9,
   "metadata": {},
   "outputs": [
    {
     "name": "stdout",
     "output_type": "stream",
     "text": [
      "Data saved to ./data_symbolic_regression/preprocessed_test_data.csv\n"
     ]
    }
   ],
   "source": [
    "output_path = \"./data_symbolic_regression/preprocessed_test_data.csv\"\n",
    "df.to_csv(output_path, index=False)\n",
    "print(f\"Data saved to {output_path}\")"
   ]
  },
  {
   "cell_type": "code",
   "execution_count": 10,
   "metadata": {},
   "outputs": [
    {
     "data": {
      "image/png": "[encoded data removed]",
      "text/plain": [
       "<Figure size 640x480 with 1 Axes>"
      ]
     },
     "metadata": {},
     "output_type": "display_data"
    }
   ],
   "source": [
    "import matplotlib.pyplot as plt\n",
    "import seaborn as sns\n",
    "\n",
    "# Example: Distribution of target values\n",
    "sns.histplot(df[\"target\"], bins=30, kde=True)\n",
    "plt.title(\"Target Value Distribution\")\n",
    "plt.xlabel(\"Target\")\n",
    "plt.ylabel(\"Frequency\")\n",
    "plt.show()"
   ]
  },
  {
   "cell_type": "code",
   "execution_count": null,
   "metadata": {},
   "outputs": [],
   "source": []
  }
 ],
 "metadata": {
  "kernelspec": {
   "display_name": "stat940-project",
   "language": "python",
   "name": "python3"
  },
  "language_info": {
   "codemirror_mode": {
    "name": "ipython",
    "version": 3
   },
   "file_extension": ".py",
   "mimetype": "text/x-python",
   "name": "python",
   "nbconvert_exporter": "python",
   "pygments_lexer": "ipython3",
   "version": "3.9.6"
  }
 },
 "nbformat": 4,
 "nbformat_minor": 2
}
